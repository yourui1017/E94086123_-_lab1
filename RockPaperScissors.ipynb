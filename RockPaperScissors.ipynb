{
 "cells": [
  {
   "cell_type": "code",
   "execution_count": 1,
   "metadata": {},
   "outputs": [
    {
     "name": "stdout",
     "output_type": "stream",
     "text": [
      "Welcome to ROCK, PAPER, SCISSORS game!\n"
     ]
    }
   ],
   "source": [
    "print(\"Welcome to ROCK, PAPER, SCISSORS game!\")\n",
    "win = 0\n",
    "\n",
    "# 計算輸幾次\n",
    "lose = 0\n",
    "\n",
    "#計算平手幾次\n",
    "tie = 0"
   ]
  },
  {
   "cell_type": "code",
   "execution_count": 5,
   "metadata": {},
   "outputs": [
    {
     "name": "stdout",
     "output_type": "stream",
     "text": [
      "Enter your move: (r)ock (p)aper (s)cissorsp\n",
      "PAPER versus...\n",
      "SCISSORS\n",
      "You lose!\n",
      "Enter your move: (r)ock (p)aper (s)cissorss\n",
      "SCISSORS versus...\n",
      "SCISSORS\n",
      "It is a tie!\n",
      "Enter your move: (r)ock (p)aper (s)cissorss\n",
      "SCISSORS versus...\n",
      "PAPER\n",
      "You have 1 ties and 1 losses before your first win.\n"
     ]
    }
   ],
   "source": [
    "import random\n",
    "\n",
    "while (win!=1) :   \n",
    "    player = input(\"Enter your move: (r)ock (p)aper (s)cissors\")\n",
    "    tem = random.randint(1,3)  \n",
    "    \n",
    "    # 電腦的 1=ROCK, 2=PAPER, 3=SCISSORS\n",
    "    # player的 r=ROCK, p=PAPER, s=SCISSORS\n",
    "    if (player ==  \"r\" ):\n",
    "        if( tem == 1):\n",
    "            print(\"ROCK versus...\\nROCK\")\n",
    "            tie+=1\n",
    "            print(\"It is a tie!\")\n",
    "        elif( tem == 2):\n",
    "            print(\"ROCK versus...\\nPAPER\")\n",
    "            lose+=1\n",
    "            print(\"You lose!\")\n",
    "        else:\n",
    "            print(\"ROCK versus...\\nSCISSORS\")\n",
    "            win+=1\n",
    "    elif (player ==  \"p\" ):\n",
    "        if( tem == 1):\n",
    "            print(\"PAPER versus...\\nROCK\")\n",
    "            win+=1\n",
    "        elif( tem == 2):\n",
    "            print(\"PAPER versus...\\nPAPER\")\n",
    "            tie+=1\n",
    "            print(\"It is a tie!\")\n",
    "        else:\n",
    "            print(\"PAPER versus...\\nSCISSORS\")\n",
    "            lose+=1\n",
    "            print(\"You lose!\")\n",
    "    else :\n",
    "        if( tem == 1):\n",
    "            print(\"SCISSORS versus...\\nROCK\")\n",
    "            lose+=1\n",
    "            print(\"You lose!\")\n",
    "        elif( tem == 2):\n",
    "            print(\"SCISSORS versus...\\nPAPER\")\n",
    "            win+=1\n",
    "        else:\n",
    "            print(\"SCISSORS versus...\\nSCISSORS\")\n",
    "            tie+=1\n",
    "            print(\"It is a tie!\")\n",
    "            \n",
    "    # win=1, 則跳出 while迴圈\n",
    "            \n",
    "print(\"You have\", tie, \"ties and\", lose, \"losses before your first win.\")"
   ]
  },
  {
   "cell_type": "code",
   "execution_count": null,
   "metadata": {},
   "outputs": [],
   "source": []
  },
  {
   "cell_type": "code",
   "execution_count": null,
   "metadata": {},
   "outputs": [],
   "source": []
  }
 ],
 "metadata": {
  "kernelspec": {
   "display_name": "Python 3",
   "language": "python",
   "name": "python3"
  },
  "language_info": {
   "codemirror_mode": {
    "name": "ipython",
    "version": 3
   },
   "file_extension": ".py",
   "mimetype": "text/x-python",
   "name": "python",
   "nbconvert_exporter": "python",
   "pygments_lexer": "ipython3",
   "version": "3.8.3"
  }
 },
 "nbformat": 4,
 "nbformat_minor": 4
}
