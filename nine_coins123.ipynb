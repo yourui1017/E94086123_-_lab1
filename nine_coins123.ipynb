{
 "cells": [
  {
   "cell_type": "code",
   "execution_count": 1,
   "metadata": {},
   "outputs": [],
   "source": [
    "import random                    # 引入random\n",
    "from nine_coins import Ninecoins # 引入nine_coins class\n"
   ]
  },
  {
   "cell_type": "code",
   "execution_count": 2,
   "metadata": {},
   "outputs": [
    {
     "name": "stdout",
     "output_type": "stream",
     "text": [
      "binary: 000000111 and decimal: 7 \n"
     ]
    },
    {
     "data": {
      "text/plain": [
       "Nine_coins: HHHHHHTTT"
      ]
     },
     "execution_count": 2,
     "metadata": {},
     "output_type": "execute_result"
    }
   ],
   "source": [
    "coins = Ninecoins(7) # 給定初始值\n",
    "print(coins)         # 將__str__回傳的字串印出來\n",
    "coins                # 將__repr__回傳的字串印出來"
   ]
  },
  {
   "cell_type": "code",
   "execution_count": 3,
   "metadata": {},
   "outputs": [
    {
     "name": "stdout",
     "output_type": "stream",
     "text": [
      "binary: 110000000 and decimal: 384 \n"
     ]
    },
    {
     "data": {
      "text/plain": [
       "Nine_coins: TTHHHHHHH"
      ]
     },
     "execution_count": 3,
     "metadata": {},
     "output_type": "execute_result"
    }
   ],
   "source": [
    "coins.toss()         # 將value做亂數\n",
    "print(coins)\n",
    "coins"
   ]
  },
  {
   "cell_type": "code",
   "execution_count": 4,
   "metadata": {},
   "outputs": [
    {
     "name": "stdout",
     "output_type": "stream",
     "text": [
      "binary: 011111111 and decimal: 255 \n"
     ]
    },
    {
     "data": {
      "text/plain": [
       "Nine_coins: HTTTTTTTT"
      ]
     },
     "execution_count": 4,
     "metadata": {},
     "output_type": "execute_result"
    }
   ],
   "source": [
    "coins.toss() \n",
    "print(coins)\n",
    "coins"
   ]
  },
  {
   "cell_type": "code",
   "execution_count": 5,
   "metadata": {},
   "outputs": [
    {
     "name": "stdout",
     "output_type": "stream",
     "text": [
      "binary: 001000111 and decimal: 71 \n"
     ]
    },
    {
     "data": {
      "text/plain": [
       "Nine_coins: HHTHHHTTT"
      ]
     },
     "execution_count": 5,
     "metadata": {},
     "output_type": "execute_result"
    }
   ],
   "source": [
    "coins.toss()\n",
    "print(coins)\n",
    "coins"
   ]
  },
  {
   "cell_type": "code",
   "execution_count": null,
   "metadata": {},
   "outputs": [],
   "source": []
  },
  {
   "cell_type": "code",
   "execution_count": null,
   "metadata": {},
   "outputs": [],
   "source": []
  }
 ],
 "metadata": {
  "kernelspec": {
   "display_name": "Python 3",
   "language": "python",
   "name": "python3"
  },
  "language_info": {
   "codemirror_mode": {
    "name": "ipython",
    "version": 3
   },
   "file_extension": ".py",
   "mimetype": "text/x-python",
   "name": "python",
   "nbconvert_exporter": "python",
   "pygments_lexer": "ipython3",
   "version": "3.8.3"
  }
 },
 "nbformat": 4,
 "nbformat_minor": 4
}
