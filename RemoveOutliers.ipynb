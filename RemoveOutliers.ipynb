{
 "cells": [
  {
   "cell_type": "code",
   "execution_count": 1,
   "metadata": {},
   "outputs": [
    {
     "name": "stdout",
     "output_type": "stream",
     "text": [
      "Enter the number of smallest and largest values to remove: 2\n",
      "Enter a value (q or Q to quit): 1000\n",
      "Enter a value (q or Q to quit): -1000\n",
      "Enter a value (q or Q to quit): 100\n",
      "Enter a value (q or Q to quit): -100\n",
      "Enter a value (q or Q to quit): 456\n",
      "Enter a value (q or Q to quit): 89\n",
      "Enter a value (q or Q to quit): 15\n",
      "Enter a value (q or Q to quit): 56\n",
      "Enter a value (q or Q to quit): 85\n",
      "Enter a value (q or Q to quit): q\n",
      "The orginal data:  [1000, -1000, 100, -100, 456, 89, 15, 56, 85]\n",
      "The data with the outliers removed:  [15, 56, 85, 89, 100]\n",
      "The outliers:  [-1000, -100, 456, 1000]\n"
     ]
    }
   ],
   "source": [
    "list = []\n",
    "\n",
    "#輸入最大值和最小值各要刪掉幾個\n",
    "num = int(input(\"Enter the number of smallest and largest values to remove: \"))\n",
    "value = input(\"Enter a value (q or Q to quit): \")\n",
    "\n",
    "# 當輸入為 Q 或 q 時，則跳出 while 迴圈\n",
    "while value != \"Q\" and value != \"q\":\n",
    "    \n",
    "    # list的最後面新增 num 的值\n",
    "    list.append(int(value))\n",
    "    value = input(\"Enter a value (q or Q to quit): \")\n",
    "    \n",
    "print(\"The orginal data: \", list ) \n",
    "\n",
    "# 移除最大和最小值，並將它們保存起來\n",
    "def remove_outliers(list, num): \n",
    "    store = []\n",
    "    \n",
    "    for i in range (num):\n",
    "        store.append(max(list))\n",
    "        store.append(min(list))\n",
    "        list.remove(max(list))\n",
    "        list.remove(min(list))\n",
    "        store.sort()\n",
    "        list.sort()\n",
    "    return list, store\n",
    "\n",
    "#將回傳的 2個 list儲存在 removed和 saved \n",
    "removed, saved = remove_outliers( list, num )\n",
    "\n",
    "print(\"The data with the outliers removed: \", removed )\n",
    "print(\"The outliers: \", saved )\n"
   ]
  },
  {
   "cell_type": "code",
   "execution_count": null,
   "metadata": {},
   "outputs": [],
   "source": []
  },
  {
   "cell_type": "code",
   "execution_count": null,
   "metadata": {},
   "outputs": [],
   "source": []
  }
 ],
 "metadata": {
  "kernelspec": {
   "display_name": "Python 3",
   "language": "python",
   "name": "python3"
  },
  "language_info": {
   "codemirror_mode": {
    "name": "ipython",
    "version": 3
   },
   "file_extension": ".py",
   "mimetype": "text/x-python",
   "name": "python",
   "nbconvert_exporter": "python",
   "pygments_lexer": "ipython3",
   "version": "3.8.3"
  }
 },
 "nbformat": 4,
 "nbformat_minor": 4
}
